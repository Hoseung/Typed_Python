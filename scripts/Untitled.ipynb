{
 "cells": [
  {
   "cell_type": "code",
   "execution_count": 1,
   "id": "b81863fa",
   "metadata": {},
   "outputs": [],
   "source": [
    "%load_ext autoreload\n",
    "%autoreload 2"
   ]
  },
  {
   "cell_type": "code",
   "execution_count": 2,
   "id": "d6d87267",
   "metadata": {},
   "outputs": [],
   "source": [
    "import inspect\n",
    "import ast\n",
    "import numpy as np\n",
    "import typing"
   ]
  },
  {
   "cell_type": "code",
   "execution_count": 25,
   "id": "2ac0a360",
   "metadata": {},
   "outputs": [],
   "source": [
    "import typist\n",
    "from typist import type_check"
   ]
  },
  {
   "cell_type": "code",
   "execution_count": 26,
   "id": "cbaa5725",
   "metadata": {},
   "outputs": [
    {
     "name": "stdout",
     "output_type": "stream",
     "text": [
      "\n"
     ]
    }
   ],
   "source": [
    "\n",
    "# Todo:\n",
    "# Add a decorator for an explicit type check. \n",
    "@type_check\n",
    "def example_function(a: int, b: int, c: float, ext = None):\n",
    "    d = a + b\n",
    "    e = a + c\n",
    "    \n",
    "    return d\n",
    "\n",
    "source_code = inspect.getsource(example_function)\n",
    "tree = ast.parse(source_code)\n",
    "annotated_tree = typist.AnnotateVariableTypes().visit(tree)\n",
    "annotated_source_code = ast.unparse(annotated_tree)\n",
    "print(annotated_source_code)"
   ]
  },
  {
   "cell_type": "code",
   "execution_count": 28,
   "id": "441544e3",
   "metadata": {},
   "outputs": [
    {
     "ename": "TypeError",
     "evalue": "Argument 'c' should be of type <class 'float'>, but got <class 'int'>",
     "output_type": "error",
     "traceback": [
      "\u001b[0;31m---------------------------------------------------------------------------\u001b[0m",
      "\u001b[0;31mTypeError\u001b[0m                                 Traceback (most recent call last)",
      "Cell \u001b[0;32mIn[28], line 1\u001b[0m\n\u001b[0;32m----> 1\u001b[0m example_function(\u001b[38;5;241m1\u001b[39m,\u001b[38;5;241m5\u001b[39m,\u001b[38;5;241m3\u001b[39m)\n",
      "File \u001b[0;32m~/Work/FHE/FHE_simulator/scripts/typist.py:21\u001b[0m, in \u001b[0;36mtype_check.<locals>.wrapper\u001b[0;34m(*args, **kwargs)\u001b[0m\n\u001b[1;32m     19\u001b[0m     expected_type \u001b[38;5;241m=\u001b[39m type_hints\u001b[38;5;241m.\u001b[39mget(arg_name)\n\u001b[1;32m     20\u001b[0m     \u001b[38;5;28;01mif\u001b[39;00m expected_type \u001b[38;5;129;01mand\u001b[39;00m \u001b[38;5;129;01mnot\u001b[39;00m \u001b[38;5;28misinstance\u001b[39m(arg_value, expected_type):\n\u001b[0;32m---> 21\u001b[0m         \u001b[38;5;28;01mraise\u001b[39;00m \u001b[38;5;167;01mTypeError\u001b[39;00m(\n\u001b[1;32m     22\u001b[0m             \u001b[38;5;124mf\u001b[39m\u001b[38;5;124m\"\u001b[39m\u001b[38;5;124mArgument \u001b[39m\u001b[38;5;124m'\u001b[39m\u001b[38;5;132;01m{\u001b[39;00marg_name\u001b[38;5;132;01m}\u001b[39;00m\u001b[38;5;124m'\u001b[39m\u001b[38;5;124m should be of type \u001b[39m\u001b[38;5;132;01m{\u001b[39;00mexpected_type\u001b[38;5;132;01m}\u001b[39;00m\u001b[38;5;124m, but got \u001b[39m\u001b[38;5;132;01m{\u001b[39;00m\u001b[38;5;28mtype\u001b[39m(arg_value)\u001b[38;5;132;01m}\u001b[39;00m\u001b[38;5;124m\"\u001b[39m\n\u001b[1;32m     23\u001b[0m         )\n\u001b[1;32m     25\u001b[0m \u001b[38;5;66;03m# Call the original function if all checks pass\u001b[39;00m\n\u001b[1;32m     26\u001b[0m \u001b[38;5;28;01mreturn\u001b[39;00m func(\u001b[38;5;241m*\u001b[39margs, \u001b[38;5;241m*\u001b[39m\u001b[38;5;241m*\u001b[39mkwargs)\n",
      "\u001b[0;31mTypeError\u001b[0m: Argument 'c' should be of type <class 'float'>, but got <class 'int'>"
     ]
    }
   ],
   "source": [
    "example_function(1,5,3)"
   ]
  },
  {
   "cell_type": "code",
   "execution_count": 16,
   "id": "04fde2b2",
   "metadata": {},
   "outputs": [],
   "source": [
    "function_def = tree.body[0]\n",
    "arg1 = function_def.args.args[0]"
   ]
  },
  {
   "cell_type": "code",
   "execution_count": 18,
   "id": "160b3080",
   "metadata": {},
   "outputs": [
    {
     "data": {
      "text/plain": [
       "'int'"
      ]
     },
     "execution_count": 18,
     "metadata": {},
     "output_type": "execute_result"
    }
   ],
   "source": [
    "arg1.annotation.id"
   ]
  },
  {
   "cell_type": "code",
   "execution_count": 9,
   "id": "8e392028",
   "metadata": {},
   "outputs": [
    {
     "name": "stdout",
     "output_type": "stream",
     "text": [
      "Module(\n",
      "  body=[\n",
      "    FunctionDef(\n",
      "      name='example_function',\n",
      "      args=arguments(\n",
      "        posonlyargs=[],\n",
      "        args=[],\n",
      "        kwonlyargs=[],\n",
      "        kw_defaults=[],\n",
      "        defaults=[]),\n",
      "      body=[\n",
      "        AnnAssign(\n",
      "          target=Name(id='a', ctx=Store()),\n",
      "          annotation=Name(id='int', ctx=Load()),\n",
      "          value=Constant(value=1),\n",
      "          simple=1),\n",
      "        AnnAssign(\n",
      "          target=Name(id='b', ctx=Store()),\n",
      "          annotation=Name(id='float', ctx=Load()),\n",
      "          value=Constant(value=2.0),\n",
      "          simple=1),\n",
      "        AnnAssign(\n",
      "          target=Name(id='c', ctx=Store()),\n",
      "          annotation=Name(id='str', ctx=Load()),\n",
      "          value=Constant(value='hello'),\n",
      "          simple=1),\n",
      "        Assign(\n",
      "          targets=[\n",
      "            Name(id='d', ctx=Store())],\n",
      "          value=BinOp(\n",
      "            left=Name(id='a', ctx=Load()),\n",
      "            op=Add(),\n",
      "            right=Name(id='b', ctx=Load())))],\n",
      "      decorator_list=[])],\n",
      "  type_ignores=[])\n"
     ]
    }
   ],
   "source": [
    "print(ast.dump(annotated_tree, indent=2))"
   ]
  },
  {
   "cell_type": "code",
   "execution_count": null,
   "id": "3274d400",
   "metadata": {},
   "outputs": [],
   "source": []
  }
 ],
 "metadata": {
  "kernelspec": {
   "display_name": "Python 3 (ipykernel)",
   "language": "python",
   "name": "python3"
  },
  "language_info": {
   "codemirror_mode": {
    "name": "ipython",
    "version": 3
   },
   "file_extension": ".py",
   "mimetype": "text/x-python",
   "name": "python",
   "nbconvert_exporter": "python",
   "pygments_lexer": "ipython3",
   "version": "3.11.0"
  }
 },
 "nbformat": 4,
 "nbformat_minor": 5
}
