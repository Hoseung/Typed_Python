{
 "cells": [
  {
   "cell_type": "code",
   "execution_count": 1,
   "id": "b81863fa",
   "metadata": {},
   "outputs": [],
   "source": [
    "%load_ext autoreload\n",
    "%autoreload 2"
   ]
  },
  {
   "cell_type": "code",
   "execution_count": 46,
   "id": "d6d87267",
   "metadata": {},
   "outputs": [],
   "source": [
    "import inspect\n",
    "import ast\n",
    "import numpy as np\n",
    "import typing\n",
    "\n",
    "import typist\n",
    "from typist import type_check"
   ]
  },
  {
   "cell_type": "markdown",
   "id": "b08935a1",
   "metadata": {},
   "source": [
    "Python built-in types are [int, float, str, bool, bytes, list, tuple, dict, set, frozenset, None]\n",
    "\n",
    "We aim to keep track of all variables in the function that are derived from the function argument. That means we need to know what each operators will return. This must be simple as all Uniary operators on a Ciphertext, binary operaotrs on two Ciphertexts should result in a Ciphertext. "
   ]
  },
  {
   "cell_type": "code",
   "execution_count": 47,
   "id": "37017dc1",
   "metadata": {},
   "outputs": [],
   "source": [
    "class Ciphertext:\n",
    "    def __init__(self, val):\n",
    "        self.val = val\n",
    "\n",
    "    def __add__(self, o):\n",
    "        new_instance = Ciphertext(self.val + o.val)\n",
    "        return new_instance\n",
    "\n",
    "def print_ast(tree, indent=2):\n",
    "    print(ast.dump(tree, indent=indent))\n",
    "\n",
    "def fun(a: Ciphertext, b: Ciphertext, c:int = 0) -> Ciphertext:\n",
    "    d = a + b\n",
    "    c = c + 5\n",
    "    return d"
   ]
  },
  {
   "cell_type": "code",
   "execution_count": 48,
   "id": "b70a512f",
   "metadata": {},
   "outputs": [],
   "source": [
    "source_code = inspect.getsource(fun)\n",
    "tree = ast.parse(source_code)"
   ]
  },
  {
   "cell_type": "code",
   "execution_count": 57,
   "id": "d348f199",
   "metadata": {},
   "outputs": [],
   "source": [
    "body = tree.body[0].body"
   ]
  },
  {
   "cell_type": "code",
   "execution_count": 58,
   "id": "03f31afc",
   "metadata": {},
   "outputs": [],
   "source": [
    "assign1, assign2, ret = body"
   ]
  },
  {
   "cell_type": "markdown",
   "id": "987d07e7",
   "metadata": {},
   "source": [
    "1. c = a ? b 일 때, c가 무엇이 될지 알려면, a와 b의 type을 미리 알아야함. \n",
    "2. a와 b의 type을 추적하기 위해서는 우변에서 type의 변화가 일어나지 않는 것이 좋음 (SSO) \n",
    "3. 따라서 복잡한 expression을 SSO 형태로 먼저 분해해내는 것이 중요함. \n",
    "4. c = fun(a,b)일 경우, fun()의 return type이 explicit하게 주어져야함\n",
    "5. ALL ciphertext represent a single data type (Float in CKKS or Int in BF/GV). All non-Ciphertext variables that interacts with Ciphertext are automatically converted to either Float or Int. \n",
    "6. If one or more of operands are Ciphertext and the operation is valid, resulting variable is always a Ciphertext. "
   ]
  },
  {
   "cell_type": "code",
   "execution_count": 79,
   "id": "a620d3b1",
   "metadata": {},
   "outputs": [
    {
     "data": {
      "text/plain": [
       "<ast.Name at 0x7f71082a5750>"
      ]
     },
     "execution_count": 79,
     "metadata": {},
     "output_type": "execute_result"
    }
   ],
   "source": [
    "assign1.value.left"
   ]
  },
  {
   "cell_type": "code",
   "execution_count": 75,
   "id": "79f3ca9e",
   "metadata": {},
   "outputs": [
    {
     "name": "stdout",
     "output_type": "stream",
     "text": [
      "Module(\n",
      "  body=[\n",
      "    FunctionDef(\n",
      "      name='fun',\n",
      "      args=arguments(\n",
      "        posonlyargs=[],\n",
      "        args=[\n",
      "          arg(\n",
      "            arg='a',\n",
      "            annotation=Name(id='Ciphertext', ctx=Load())),\n",
      "          arg(\n",
      "            arg='b',\n",
      "            annotation=Name(id='Ciphertext', ctx=Load())),\n",
      "          arg(\n",
      "            arg='c',\n",
      "            annotation=Name(id='int', ctx=Load()))],\n",
      "        kwonlyargs=[],\n",
      "        kw_defaults=[],\n",
      "        defaults=[\n",
      "          Constant(value=0)]),\n",
      "      body=[\n",
      "        Assign(\n",
      "          targets=[\n",
      "            Name(id='d', ctx=Store())],\n",
      "          value=BinOp(\n",
      "            left=Name(id='a', ctx=Load()),\n",
      "            op=Add(),\n",
      "            right=Name(id='b', ctx=Load()))),\n",
      "        Assign(\n",
      "          targets=[\n",
      "            Name(id='c', ctx=Store())],\n",
      "          value=BinOp(\n",
      "            left=Name(id='c', ctx=Load()),\n",
      "            op=Add(),\n",
      "            right=Constant(value=5))),\n",
      "        Return(\n",
      "          value=Name(id='d', ctx=Load()))],\n",
      "      decorator_list=[],\n",
      "      returns=Name(id='Ciphertext', ctx=Load()))],\n",
      "  type_ignores=[])\n"
     ]
    }
   ],
   "source": [
    "print(ast.dump(tree, indent=2))"
   ]
  },
  {
   "cell_type": "code",
   "execution_count": 77,
   "id": "a8a41b05",
   "metadata": {},
   "outputs": [
    {
     "name": "stdout",
     "output_type": "stream",
     "text": [
      "Visiting ASSIGN\n",
      "NODE <ast.BinOp object at 0x7f71082a6470>\n",
      "Inferred type:  None\n",
      "Visiting ASSIGN\n",
      "NODE <ast.BinOp object at 0x7f71082a75b0>\n",
      "Inferred type:  None\n"
     ]
    }
   ],
   "source": [
    "annotated_tree = typist.AnnotateVariableTypes().visit(tree)"
   ]
  },
  {
   "cell_type": "code",
   "execution_count": 36,
   "id": "7dedfe1c",
   "metadata": {},
   "outputs": [
    {
     "name": "stdout",
     "output_type": "stream",
     "text": [
      "Module(\n",
      "  body=[\n",
      "    FunctionDef(\n",
      "      name='fun',\n",
      "      args=arguments(\n",
      "        posonlyargs=[],\n",
      "        args=[\n",
      "          arg(\n",
      "            arg='a',\n",
      "            annotation=Name(id='Ciphertext', ctx=Load())),\n",
      "          arg(\n",
      "            arg='b',\n",
      "            annotation=Name(id='Ciphertext', ctx=Load())),\n",
      "          arg(\n",
      "            arg='c',\n",
      "            annotation=Name(id='int', ctx=Load()))],\n",
      "        kwonlyargs=[],\n",
      "        kw_defaults=[],\n",
      "        defaults=[\n",
      "          Constant(value=0)]),\n",
      "      body=[\n",
      "        Assign(\n",
      "          targets=[\n",
      "            Name(id='d', ctx=Store())],\n",
      "          value=BinOp(\n",
      "            left=Name(id='a', ctx=Load()),\n",
      "            op=Add(),\n",
      "            right=Name(id='b', ctx=Load()))),\n",
      "        Assign(\n",
      "          targets=[\n",
      "            Name(id='c', ctx=Store())],\n",
      "          value=BinOp(\n",
      "            left=Name(id='c', ctx=Load()),\n",
      "            op=Add(),\n",
      "            right=Constant(value=5))),\n",
      "        Return(\n",
      "          value=Name(id='d', ctx=Load()))],\n",
      "      decorator_list=[],\n",
      "      returns=Name(id='Ciphertext', ctx=Load()))],\n",
      "  type_ignores=[])\n"
     ]
    }
   ],
   "source": [
    "print_ast(annotated_tree)"
   ]
  },
  {
   "cell_type": "code",
   "execution_count": 37,
   "id": "44f001a2",
   "metadata": {},
   "outputs": [
    {
     "name": "stdout",
     "output_type": "stream",
     "text": [
      "def fun(a: Ciphertext, b: Ciphertext, c: int=0) -> Ciphertext:\n",
      "    d = a + b\n",
      "    c = c + 5\n",
      "    return d\n"
     ]
    }
   ],
   "source": [
    "annotated_source_code = ast.unparse(annotated_tree)\n",
    "print(annotated_source_code)"
   ]
  },
  {
   "cell_type": "code",
   "execution_count": null,
   "id": "9173e9f5",
   "metadata": {},
   "outputs": [],
   "source": []
  },
  {
   "cell_type": "code",
   "execution_count": 38,
   "id": "01db7ee1",
   "metadata": {},
   "outputs": [
    {
     "name": "stdout",
     "output_type": "stream",
     "text": [
      "def fun(a: Ciphertext, b: Ciphertext, c: int=0) -> Ciphertext:\n",
      "    d = a + b\n",
      "    c = c + 5\n",
      "    return d\n"
     ]
    }
   ],
   "source": [
    "annotated_tree = typist.AnnotateVariableTypes().visit(tree)\n",
    "annotated_source_code = ast.unparse(annotated_tree)\n",
    "print(annotated_source_code)"
   ]
  },
  {
   "cell_type": "code",
   "execution_count": 27,
   "id": "c288af19",
   "metadata": {},
   "outputs": [
    {
     "data": {
      "text/plain": [
       "[]"
      ]
     },
     "execution_count": 27,
     "metadata": {},
     "output_type": "execute_result"
    }
   ],
   "source": [
    "annotated_tree.body"
   ]
  },
  {
   "cell_type": "code",
   "execution_count": 26,
   "id": "cbaa5725",
   "metadata": {},
   "outputs": [
    {
     "name": "stdout",
     "output_type": "stream",
     "text": [
      "\n"
     ]
    }
   ],
   "source": [
    "\n",
    "# Todo:\n",
    "# Add a decorator for an explicit type check. \n",
    "@type_check\n",
    "def example_function(a: int, b: int, c: float, ext = None):\n",
    "    d = a + b\n",
    "    e = a + c\n",
    "    \n",
    "    return d\n",
    "\n",
    "source_code = inspect.getsource(example_function)\n",
    "tree = ast.parse(source_code)\n",
    "annotated_tree = typist.AnnotateVariableTypes().visit(tree)\n",
    "annotated_source_code = ast.unparse(annotated_tree)\n",
    "print(annotated_source_code)"
   ]
  },
  {
   "cell_type": "code",
   "execution_count": 28,
   "id": "441544e3",
   "metadata": {},
   "outputs": [
    {
     "ename": "TypeError",
     "evalue": "Argument 'c' should be of type <class 'float'>, but got <class 'int'>",
     "output_type": "error",
     "traceback": [
      "\u001b[0;31m---------------------------------------------------------------------------\u001b[0m",
      "\u001b[0;31mTypeError\u001b[0m                                 Traceback (most recent call last)",
      "Cell \u001b[0;32mIn[28], line 1\u001b[0m\n\u001b[0;32m----> 1\u001b[0m example_function(\u001b[38;5;241m1\u001b[39m,\u001b[38;5;241m5\u001b[39m,\u001b[38;5;241m3\u001b[39m)\n",
      "File \u001b[0;32m~/Work/FHE/FHE_simulator/scripts/typist.py:21\u001b[0m, in \u001b[0;36mtype_check.<locals>.wrapper\u001b[0;34m(*args, **kwargs)\u001b[0m\n\u001b[1;32m     19\u001b[0m     expected_type \u001b[38;5;241m=\u001b[39m type_hints\u001b[38;5;241m.\u001b[39mget(arg_name)\n\u001b[1;32m     20\u001b[0m     \u001b[38;5;28;01mif\u001b[39;00m expected_type \u001b[38;5;129;01mand\u001b[39;00m \u001b[38;5;129;01mnot\u001b[39;00m \u001b[38;5;28misinstance\u001b[39m(arg_value, expected_type):\n\u001b[0;32m---> 21\u001b[0m         \u001b[38;5;28;01mraise\u001b[39;00m \u001b[38;5;167;01mTypeError\u001b[39;00m(\n\u001b[1;32m     22\u001b[0m             \u001b[38;5;124mf\u001b[39m\u001b[38;5;124m\"\u001b[39m\u001b[38;5;124mArgument \u001b[39m\u001b[38;5;124m'\u001b[39m\u001b[38;5;132;01m{\u001b[39;00marg_name\u001b[38;5;132;01m}\u001b[39;00m\u001b[38;5;124m'\u001b[39m\u001b[38;5;124m should be of type \u001b[39m\u001b[38;5;132;01m{\u001b[39;00mexpected_type\u001b[38;5;132;01m}\u001b[39;00m\u001b[38;5;124m, but got \u001b[39m\u001b[38;5;132;01m{\u001b[39;00m\u001b[38;5;28mtype\u001b[39m(arg_value)\u001b[38;5;132;01m}\u001b[39;00m\u001b[38;5;124m\"\u001b[39m\n\u001b[1;32m     23\u001b[0m         )\n\u001b[1;32m     25\u001b[0m \u001b[38;5;66;03m# Call the original function if all checks pass\u001b[39;00m\n\u001b[1;32m     26\u001b[0m \u001b[38;5;28;01mreturn\u001b[39;00m func(\u001b[38;5;241m*\u001b[39margs, \u001b[38;5;241m*\u001b[39m\u001b[38;5;241m*\u001b[39mkwargs)\n",
      "\u001b[0;31mTypeError\u001b[0m: Argument 'c' should be of type <class 'float'>, but got <class 'int'>"
     ]
    }
   ],
   "source": [
    "example_function(1,5,3)"
   ]
  },
  {
   "cell_type": "code",
   "execution_count": 16,
   "id": "04fde2b2",
   "metadata": {},
   "outputs": [],
   "source": [
    "function_def = tree.body[0]\n",
    "arg1 = function_def.args.args[0]"
   ]
  },
  {
   "cell_type": "code",
   "execution_count": 18,
   "id": "160b3080",
   "metadata": {},
   "outputs": [
    {
     "data": {
      "text/plain": [
       "'int'"
      ]
     },
     "execution_count": 18,
     "metadata": {},
     "output_type": "execute_result"
    }
   ],
   "source": [
    "arg1.annotation.id"
   ]
  },
  {
   "cell_type": "code",
   "execution_count": 9,
   "id": "8e392028",
   "metadata": {},
   "outputs": [
    {
     "name": "stdout",
     "output_type": "stream",
     "text": [
      "Module(\n",
      "  body=[\n",
      "    FunctionDef(\n",
      "      name='example_function',\n",
      "      args=arguments(\n",
      "        posonlyargs=[],\n",
      "        args=[],\n",
      "        kwonlyargs=[],\n",
      "        kw_defaults=[],\n",
      "        defaults=[]),\n",
      "      body=[\n",
      "        AnnAssign(\n",
      "          target=Name(id='a', ctx=Store()),\n",
      "          annotation=Name(id='int', ctx=Load()),\n",
      "          value=Constant(value=1),\n",
      "          simple=1),\n",
      "        AnnAssign(\n",
      "          target=Name(id='b', ctx=Store()),\n",
      "          annotation=Name(id='float', ctx=Load()),\n",
      "          value=Constant(value=2.0),\n",
      "          simple=1),\n",
      "        AnnAssign(\n",
      "          target=Name(id='c', ctx=Store()),\n",
      "          annotation=Name(id='str', ctx=Load()),\n",
      "          value=Constant(value='hello'),\n",
      "          simple=1),\n",
      "        Assign(\n",
      "          targets=[\n",
      "            Name(id='d', ctx=Store())],\n",
      "          value=BinOp(\n",
      "            left=Name(id='a', ctx=Load()),\n",
      "            op=Add(),\n",
      "            right=Name(id='b', ctx=Load())))],\n",
      "      decorator_list=[])],\n",
      "  type_ignores=[])\n"
     ]
    }
   ],
   "source": [
    "print(ast.dump(annotated_tree, indent=2))"
   ]
  },
  {
   "cell_type": "code",
   "execution_count": null,
   "id": "3274d400",
   "metadata": {},
   "outputs": [],
   "source": []
  },
  {
   "cell_type": "code",
   "execution_count": null,
   "id": "75109b4f",
   "metadata": {},
   "outputs": [],
   "source": []
  },
  {
   "cell_type": "code",
   "execution_count": null,
   "id": "c4e276c2",
   "metadata": {},
   "outputs": [],
   "source": []
  },
  {
   "cell_type": "code",
   "execution_count": 71,
   "id": "755fa5fd",
   "metadata": {},
   "outputs": [],
   "source": [
    "import ast\n",
    "import inspect\n",
    "from functools import wraps\n",
    "from typing import Any, Callable\n",
    "\n",
    "class DtypeCheckVisitor(ast.NodeVisitor):\n",
    "    def __init__(self, arg_types):\n",
    "        self.arg_types = arg_types\n",
    "        self.errors = []\n",
    "\n",
    "    def visit_Assign(self, node):\n",
    "        for target in node.targets:\n",
    "            if isinstance(target, ast.Name) and target.id in self.arg_types:\n",
    "                if not self._is_assigning_correct_type(node.value, self.arg_types[target.id]):\n",
    "                    self.errors.append(f\"Data type of '{target.id}' changed before return\")\n",
    "\n",
    "    def _is_assigning_correct_type(self, value_node, expected_type):\n",
    "        if isinstance(value_node, ast.Num):\n",
    "            return isinstance(value_node.n, expected_type)\n",
    "        elif isinstance(value_node, ast.Str):\n",
    "            return expected_type == str\n",
    "        elif isinstance(value_node, ast.Call):\n",
    "            return self._is_assigning_correct_type(value_node.func, expected_type)\n",
    "        return True\n",
    "\n",
    "def enforce_dtype_unchanged(func: Callable[..., Any]) -> Callable[..., Any]:\n",
    "    @wraps(func)\n",
    "    def wrapper(*args, **kwargs):\n",
    "        # Get the source code of the function\n",
    "        source_code = inspect.getsource(func)\n",
    "        tree = ast.parse(source_code)\n",
    "\n",
    "        # Extract argument types from function annotations\n",
    "        arg_types = {arg.arg: arg.annotation for arg in tree.body[0].args.args if arg.annotation}\n",
    "\n",
    "        # Visit the AST and find assignments that change the data type of the input arguments\n",
    "        visitor = DtypeCheckVisitor(arg_types)\n",
    "        visitor.visit(tree)\n",
    "\n",
    "        if visitor.errors:\n",
    "            raise TypeError(f\"Dtype change(s) detected before return: {', '.join(visitor.errors)}\")\n",
    "\n",
    "        return func(*args, **kwargs)\n",
    "\n",
    "    return wrapper"
   ]
  },
  {
   "cell_type": "code",
   "execution_count": 72,
   "id": "5d241fac",
   "metadata": {},
   "outputs": [],
   "source": [
    "@enforce_dtype_unchanged\n",
    "def valid_function(a: int, b: float):\n",
    "    c = a * b\n",
    "    a = int(c)\n",
    "    return c\n",
    "\n",
    "result = valid_function(2, 3.0)  # No error\n",
    "\n",
    "@enforce_dtype_unchanged\n",
    "def invalid_function(a: int, b: float):\n",
    "    c = a * b\n",
    "    a = c\n",
    "    return c\n",
    "\n",
    "try:\n",
    "    result = invalid_function(2, 3.0)\n",
    "except TypeError as e:\n",
    "    print(e)  # Output: Dtype change(s) detected before return: Data type of 'a' changed before return"
   ]
  },
  {
   "cell_type": "code",
   "execution_count": 74,
   "id": "1f1ef8fe",
   "metadata": {},
   "outputs": [
    {
     "data": {
      "text/plain": [
       "12.0"
      ]
     },
     "execution_count": 74,
     "metadata": {},
     "output_type": "execute_result"
    }
   ],
   "source": [
    "invalid_function(3.0, 4)"
   ]
  },
  {
   "cell_type": "code",
   "execution_count": null,
   "id": "5e7a7111",
   "metadata": {},
   "outputs": [],
   "source": []
  }
 ],
 "metadata": {
  "kernelspec": {
   "display_name": "Python 3 (ipykernel)",
   "language": "python",
   "name": "python3"
  },
  "language_info": {
   "codemirror_mode": {
    "name": "ipython",
    "version": 3
   },
   "file_extension": ".py",
   "mimetype": "text/x-python",
   "name": "python",
   "nbconvert_exporter": "python",
   "pygments_lexer": "ipython3",
   "version": "3.10.8"
  }
 },
 "nbformat": 4,
 "nbformat_minor": 5
}
