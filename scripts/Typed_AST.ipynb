{
 "cells": [
  {
   "cell_type": "code",
   "execution_count": 1,
   "id": "6842dad9",
   "metadata": {},
   "outputs": [],
   "source": [
    "import inspect\n",
    "import ast\n",
    "import numpy as np\n",
    "import typing"
   ]
  },
  {
   "cell_type": "markdown",
   "id": "a4fa7fdc",
   "metadata": {},
   "source": [
    "### Multiply integer variable if the argument is typed as INT"
   ]
  },
  {
   "cell_type": "markdown",
   "id": "2dbad9dc",
   "metadata": {},
   "source": [
    "class MultiplyIntVariables(ast.NodeTransformer):\n",
    "    def __init__(self, int_variables: typing.Set[str]):\n",
    "        self.int_variables = int_variables\n",
    "\n",
    "    def visit_Name(self, node: ast.Name) -> ast.expr:\n",
    "        if node.id in self.int_variables:\n",
    "            return ast.BinOp(left=node, op=ast.Mult(), right=ast.Constant(value=100))\n",
    "        return node\n",
    "\n",
    "def apply_multiply_int_variables(tree: ast.AST, int_variables: typing.Set[str]) -> ast.AST:\n",
    "    transformer = MultiplyIntVariables(int_variables=int_variables)\n",
    "    return transformer.visit(tree)\n",
    "\n",
    "\n",
    "def collect_int_variables(typed_tree: ast.AST) -> typing.Set[str]:\n",
    "    int_variables = set()\n",
    "\n",
    "    for node in ast.walk(typed_tree):\n",
    "        if isinstance(node, ast.arg) and isinstance(node.annotation, ast.Name) and node.annotation.id == 'int':\n",
    "            int_variables.add(node.arg)\n",
    "\n",
    "    return int_variables"
   ]
  },
  {
   "cell_type": "code",
   "execution_count": 42,
   "id": "9f01d7a5",
   "metadata": {},
   "outputs": [
    {
     "name": "stdout",
     "output_type": "stream",
     "text": [
      "def greet(name: str) -> None:\n",
      "    print(f'Hello, {name}!')\n",
      "\n",
      "def add(a: int, b: int) -> int:\n",
      "    return a * 100 + b * 100\n"
     ]
    }
   ],
   "source": [
    "int_variables = collect_int_variables(typed_tree)\n",
    "multiplied_tree = apply_multiply_int_variables(typed_tree, int_variables)\n",
    "multiplied_source_code = ast.unparse(multiplied_tree)\n",
    "print(multiplied_source_code)"
   ]
  },
  {
   "cell_type": "markdown",
   "id": "db3f1def",
   "metadata": {},
   "source": [
    "Also identify derived INT varibles and Multiply them.\n",
    "\n",
    "WRONG. It doesn't work! "
   ]
  },
  {
   "cell_type": "code",
   "execution_count": 15,
   "id": "fee45251",
   "metadata": {},
   "outputs": [],
   "source": [
    "class MultiplyIntVariables(ast.NodeTransformer):\n",
    "    def __init__(self, int_variables: typing.Set[str]):\n",
    "        self.int_variables = int_variables\n",
    "\n",
    "    def visit_Name(self, node: ast.Name) -> ast.expr:\n",
    "        if node.id in self.int_variables:\n",
    "            return ast.BinOp(left=node, op=ast.Mult(), right=ast.Constant(value=100))\n",
    "        return node\n",
    "\n",
    "    def visit_Assign(self, node: ast.Assign) -> ast.Assign:\n",
    "        if len(node.targets) == 1 and isinstance(node.targets[0], ast.Name):\n",
    "            assigned_var_name = node.targets[0].id\n",
    "            if assigned_var_name in self.int_variables:\n",
    "                node.value = ast.BinOp(left=node.value, op=ast.Mult(), right=ast.Constant(value=100))\n",
    "        return self.generic_visit(node)\n",
    "\n",
    "    def visit_Return(self, node: ast.Return) -> ast.Return:\n",
    "        print(\"1\", isinstance(node.value, ast.BinOp))\n",
    "        print(\"2\", isinstance(node.value.left, ast.Name))\n",
    "        print(\"3\", node.value.left.id in self.int_variables)\n",
    "        print(\"4\", node.value.left.id)\n",
    "        print(\"5\", self.int_variables)\n",
    "        if isinstance(node.value, ast.BinOp) and isinstance(node.value.left, ast.Name) and node.value.left.id in self.int_variables:\n",
    "            node.value.left = ast.BinOp(left=node.value.left, op=ast.Mult(), right=ast.Constant(value=100))\n",
    "            node.value.right = ast.BinOp(left=node.value.right, op=ast.Mult(), right=ast.Constant(value=100))\n",
    "        return self.generic_visit(node)"
   ]
  },
  {
   "cell_type": "code",
   "execution_count": 16,
   "id": "32d17b8b",
   "metadata": {},
   "outputs": [
    {
     "ename": "NameError",
     "evalue": "name 'collect_int_variables' is not defined",
     "output_type": "error",
     "traceback": [
      "\u001b[0;31m---------------------------------------------------------------------------\u001b[0m",
      "\u001b[0;31mNameError\u001b[0m                                 Traceback (most recent call last)",
      "Cell \u001b[0;32mIn[16], line 8\u001b[0m\n\u001b[1;32m      5\u001b[0m source_code \u001b[38;5;241m=\u001b[39m inspect\u001b[38;5;241m.\u001b[39mgetsource(add_square)\n\u001b[1;32m      7\u001b[0m typed_tree \u001b[38;5;241m=\u001b[39m generate_typed_ast(source_code)\n\u001b[0;32m----> 8\u001b[0m int_variables \u001b[38;5;241m=\u001b[39m collect_int_variables(typed_tree)\n\u001b[1;32m      9\u001b[0m multiplied_tree \u001b[38;5;241m=\u001b[39m apply_multiply_int_variables(typed_tree, int_variables)\n\u001b[1;32m     10\u001b[0m multiplied_source_code \u001b[38;5;241m=\u001b[39m ast\u001b[38;5;241m.\u001b[39munparse(multiplied_tree)\n",
      "\u001b[0;31mNameError\u001b[0m: name 'collect_int_variables' is not defined"
     ]
    }
   ],
   "source": [
    "def add_square(a: int, b: int) -> int:\n",
    "    c = a + b\n",
    "    return c * c\n",
    "\n",
    "source_code = inspect.getsource(add_square)\n",
    "\n",
    "typed_tree = generate_typed_ast(source_code)\n",
    "int_variables = collect_int_variables(typed_tree)\n",
    "multiplied_tree = apply_multiply_int_variables(typed_tree, int_variables)\n",
    "multiplied_source_code = ast.unparse(multiplied_tree)\n",
    "print(multiplied_source_code)"
   ]
  },
  {
   "cell_type": "markdown",
   "id": "90b56859",
   "metadata": {},
   "source": [
    "Still not working, becaues 'c' is not recognized as an integer. \n",
    "The fix is given as follows "
   ]
  },
  {
   "cell_type": "code",
   "execution_count": 16,
   "id": "022ea776",
   "metadata": {},
   "outputs": [],
   "source": [
    "def collect_int_variables(typed_tree: ast.AST) -> typing.Set[str]:\n",
    "    int_variables = set()\n",
    "\n",
    "    for node in ast.walk(typed_tree):\n",
    "        if isinstance(node, ast.arg) and isinstance(node.annotation, ast.Name) and node.annotation.id == 'int':\n",
    "            int_variables.add(node.arg)\n",
    "\n",
    "        if isinstance(node, ast.AnnAssign) and isinstance(node.target, ast.Name) and isinstance(node.annotation, ast.Name) and node.annotation.id == 'int':\n",
    "            int_variables.add(node.target.id)\n",
    "\n",
    "    return int_variables"
   ]
  },
  {
   "cell_type": "code",
   "execution_count": 18,
   "id": "a4c25874",
   "metadata": {},
   "outputs": [
    {
     "name": "stdout",
     "output_type": "stream",
     "text": [
      "{'c', 'a', 'b'}\n"
     ]
    }
   ],
   "source": [
    "def add_square(a: int, b: int) -> int:\n",
    "    c: int = a + b\n",
    "    return c * c\n",
    "\n",
    "source_code = inspect.getsource(add_square)\n",
    "\n",
    "typed_tree = generate_typed_ast(source_code)\n",
    "int_variables = collect_int_variables(typed_tree)\n",
    "print(int_variables)"
   ]
  },
  {
   "cell_type": "code",
   "execution_count": 19,
   "id": "eabbc657",
   "metadata": {},
   "outputs": [
    {
     "name": "stdout",
     "output_type": "stream",
     "text": [
      "1 True\n",
      "2 True\n",
      "3 True\n",
      "4 c\n",
      "5 {'c', 'a', 'b'}\n",
      "def add_square(a: int, b: int) -> int:\n",
      "    c * 100: int = a * 100 + b * 100\n",
      "    return c * 100 * 100 * (c * 100 * 100)\n"
     ]
    }
   ],
   "source": [
    "multiplied_tree = apply_multiply_int_variables(typed_tree, int_variables)\n",
    "multiplied_source_code = ast.unparse(multiplied_tree)\n",
    "print(multiplied_source_code)"
   ]
  },
  {
   "cell_type": "code",
   "execution_count": 17,
   "id": "f8764285",
   "metadata": {},
   "outputs": [],
   "source": [
    "class MultiplyIntVariables(ast.NodeTransformer):\n",
    "    def __init__(self, int_variables: typing.Set[str]):\n",
    "        self.int_variables = int_variables\n",
    "\n",
    "    def visit_Name(self, node: ast.Name) -> ast.expr:\n",
    "        if node.id in self.int_variables:\n",
    "            return ast.BinOp(left=node, op=ast.Mult(), right=ast.Constant(value=100))\n",
    "        return node\n",
    "\n",
    "    def visit_BinOp(self, node: ast.BinOp) -> ast.BinOp:\n",
    "        if (\n",
    "            isinstance(node.left, ast.Name) and node.left.id in self.int_variables\n",
    "            or isinstance(node.right, ast.Name) and node.right.id in self.int_variables\n",
    "        ):\n",
    "            node.left = self.visit(node.left)\n",
    "            node.right = self.visit(node.right)\n",
    "        else:\n",
    "            node.left = self.visit(node.left)\n",
    "            node.right = self.visit(node.right)\n",
    "        return node"
   ]
  },
  {
   "cell_type": "code",
   "execution_count": 18,
   "id": "27d52d39",
   "metadata": {},
   "outputs": [
    {
     "ename": "NameError",
     "evalue": "name 'collect_int_variables' is not defined",
     "output_type": "error",
     "traceback": [
      "\u001b[0;31m---------------------------------------------------------------------------\u001b[0m",
      "\u001b[0;31mNameError\u001b[0m                                 Traceback (most recent call last)",
      "Cell \u001b[0;32mIn[18], line 8\u001b[0m\n\u001b[1;32m      5\u001b[0m source_code \u001b[38;5;241m=\u001b[39m inspect\u001b[38;5;241m.\u001b[39mgetsource(add_square)\n\u001b[1;32m      7\u001b[0m typed_tree \u001b[38;5;241m=\u001b[39m generate_typed_ast(source_code)\n\u001b[0;32m----> 8\u001b[0m int_variables \u001b[38;5;241m=\u001b[39m collect_int_variables(typed_tree)\n\u001b[1;32m      9\u001b[0m multiplied_tree \u001b[38;5;241m=\u001b[39m apply_multiply_int_variables(typed_tree, int_variables)\n\u001b[1;32m     10\u001b[0m multiplied_source_code \u001b[38;5;241m=\u001b[39m ast\u001b[38;5;241m.\u001b[39munparse(multiplied_tree)\n",
      "\u001b[0;31mNameError\u001b[0m: name 'collect_int_variables' is not defined"
     ]
    }
   ],
   "source": [
    "def add_square(a: int, b: int) -> int:\n",
    "    c: int = a + b\n",
    "    return c * c\n",
    "\n",
    "source_code = inspect.getsource(add_square)\n",
    "\n",
    "typed_tree = generate_typed_ast(source_code)\n",
    "int_variables = collect_int_variables(typed_tree)\n",
    "multiplied_tree = apply_multiply_int_variables(typed_tree, int_variables)\n",
    "multiplied_source_code = ast.unparse(multiplied_tree)\n",
    "print(multiplied_source_code)"
   ]
  },
  {
   "cell_type": "markdown",
   "id": "2ccab211",
   "metadata": {},
   "source": [
    "결과가 integer인지 확인하는 방법. \n",
    "\n",
    "-> 이걸로 typed_tree에 custom property를 추가하면 될듯. "
   ]
  },
  {
   "cell_type": "markdown",
   "id": "2c8b6df3",
   "metadata": {},
   "source": [
    "# Current version"
   ]
  },
  {
   "cell_type": "code",
   "execution_count": 12,
   "id": "21628314",
   "metadata": {},
   "outputs": [],
   "source": [
    "class TypedFunctionVisitor(ast.NodeTransformer):\n",
    "    def __init__(self):\n",
    "        self.current_function = None\n",
    "\n",
    "    def visit_FunctionDef(self, node: ast.FunctionDef) -> ast.FunctionDef:\n",
    "        self.current_function = node.name\n",
    "\n",
    "        # Extract type annotations from function arguments\n",
    "        arg_types: typing.Dict[str, ast.expr] = {}\n",
    "        for arg in node.args.args:\n",
    "            if arg.annotation:\n",
    "                arg_types[arg.arg] = arg.annotation\n",
    "\n",
    "        # Create new arguments with type annotations\n",
    "        new_args = []\n",
    "        for arg in node.args.args:\n",
    "            if arg.arg in arg_types:\n",
    "                new_args.append(ast.arg(arg=arg.arg, annotation=arg_types[arg.arg]))\n",
    "            else:\n",
    "                new_args.append(ast.arg(arg=arg.arg, annotation=None))\n",
    "\n",
    "        # Replace the original arguments with the new typed ones\n",
    "        node.args.args = new_args\n",
    "\n",
    "        # Process the function body\n",
    "        self.generic_visit(node)\n",
    "\n",
    "        # Reset the current function\n",
    "        self.current_function = None\n",
    "\n",
    "        return node\n",
    "\n",
    "    def visit_BinOp(self, node: ast.BinOp) -> ast.BinOp:\n",
    "        if self.current_function == 'add':\n",
    "            # Assuming both left and right operands are named arguments from the 'add' function\n",
    "            left_type = ast.Name(id='int', ctx=ast.Load())\n",
    "            right_type = ast.Name(id='int', ctx=ast.Load())\n",
    "            node.left_type = left_type\n",
    "            node.right_type = right_type\n",
    "\n",
    "        return self.generic_visit(node)\n",
    "\n",
    "\n",
    "class MultiplyIntVariables(ast.NodeTransformer):\n",
    "    def visit_Name(self, node: ast.Name) -> ast.expr:\n",
    "        if hasattr(node, 'dtype') and node.dtype == 'int':\n",
    "            return ast.BinOp(left=node, op=ast.Mult(), right=ast.Constant(value=100))\n",
    "        return node\n",
    "\n",
    "    def visit_BinOp(self, node: ast.BinOp) -> ast.BinOp:\n",
    "        if is_integer_binop_result(node.left, node.right, node):\n",
    "            node.left = self.visit(node.left)\n",
    "            node.right = self.visit(node.right)\n",
    "        else:\n",
    "            node.left = self.visit(node.left)\n",
    "            node.right = self.visit(node.right)\n",
    "        return node"
   ]
  },
  {
   "cell_type": "code",
   "execution_count": 13,
   "id": "83c9bcfc",
   "metadata": {},
   "outputs": [],
   "source": [
    "class AddDtypeAttribute(ast.NodeTransformer):\n",
    "    def visit_FunctionDef(self, node: ast.FunctionDef) -> ast.FunctionDef:\n",
    "        for arg in node.args.args:\n",
    "            if isinstance(arg.annotation, ast.Name):\n",
    "                arg.dtype = arg.annotation.id\n",
    "        self.generic_visit(node)\n",
    "        return node\n",
    "\n",
    "    def visit_AnnAssign(self, node: ast.AnnAssign) -> ast.AnnAssign:\n",
    "        if isinstance(node.annotation, ast.Name):\n",
    "            node.target.dtype = node.annotation.id\n",
    "        self.generic_visit(node)\n",
    "        return node\n",
    "    \n",
    "\n",
    "def apply_multiply_int_variables(tree: ast.AST) -> ast.AST:\n",
    "    transformer = MultiplyIntVariables()\n",
    "    return transformer.visit(tree)\n",
    "\n",
    "def is_integer_binop_result(left: ast.AST, right: ast.AST, operation: ast.BinOp) -> bool:\n",
    "    if not (isinstance(left, (ast.Name, ast.Constant)) and isinstance(right, (ast.Name, ast.Constant))):\n",
    "        return False\n",
    "\n",
    "    if not (isinstance(operation.op, (ast.Add, ast.Sub, ast.Mult, ast.FloorDiv, ast.Mod, ast.Pow, ast.BitAnd, ast.BitOr, ast.BitXor, ast.LShift, ast.RShift))):\n",
    "        return False\n",
    "\n",
    "    return True\n",
    "\n",
    "\n",
    "def generate_typed_ast(source_code: str) -> ast.AST:\n",
    "    tree = ast.parse(source_code)\n",
    "    visitor = TypedFunctionVisitor()\n",
    "    typed_tree = visitor.visit(tree)\n",
    "    return typed_tree"
   ]
  },
  {
   "cell_type": "code",
   "execution_count": 27,
   "id": "73c14bc2",
   "metadata": {},
   "outputs": [],
   "source": [
    "def add_square(a: int, b: int) -> int:\n",
    "    c: int = a + b\n",
    "    return c * c\n",
    "\n",
    "source_code = inspect.getsource(add_square)\n",
    "\n",
    "typed_tree = generate_typed_ast(source_code)"
   ]
  },
  {
   "cell_type": "code",
   "execution_count": 30,
   "id": "6155087b",
   "metadata": {},
   "outputs": [],
   "source": [
    "typed_tree_with_dtype = AddDtypeAttribute().visit(typed_tree)"
   ]
  },
  {
   "cell_type": "code",
   "execution_count": 31,
   "id": "dc8b3b15",
   "metadata": {
    "scrolled": true
   },
   "outputs": [
    {
     "name": "stdout",
     "output_type": "stream",
     "text": [
      "FunctionDef(\n",
      "  name='add_square',\n",
      "  args=arguments(\n",
      "    posonlyargs=[],\n",
      "    args=[\n",
      "      arg(\n",
      "        arg='a',\n",
      "        annotation=Name(id='int', ctx=Load())),\n",
      "      arg(\n",
      "        arg='b',\n",
      "        annotation=Name(id='int', ctx=Load()))],\n",
      "    kwonlyargs=[],\n",
      "    kw_defaults=[],\n",
      "    defaults=[]),\n",
      "  body=[\n",
      "    AnnAssign(\n",
      "      target=Name(id='c', ctx=Store()),\n",
      "      annotation=Name(id='int', ctx=Load()),\n",
      "      value=BinOp(\n",
      "        left=Name(id='a', ctx=Load()),\n",
      "        op=Add(),\n",
      "        right=Name(id='b', ctx=Load())),\n",
      "      simple=1),\n",
      "    Return(\n",
      "      value=BinOp(\n",
      "        left=Name(id='c', ctx=Load()),\n",
      "        op=Mult(),\n",
      "        right=Name(id='c', ctx=Load())))],\n",
      "  decorator_list=[],\n",
      "  returns=Name(id='int', ctx=Load()))\n"
     ]
    }
   ],
   "source": [
    "print(ast.dump(typed_tree_with_dtype.body[0], indent=2))"
   ]
  },
  {
   "cell_type": "code",
   "execution_count": 32,
   "id": "f17fe724",
   "metadata": {},
   "outputs": [],
   "source": [
    "body = typed_tree_with_dtype.body[0]"
   ]
  },
  {
   "cell_type": "code",
   "execution_count": 40,
   "id": "503fc850",
   "metadata": {},
   "outputs": [
    {
     "name": "stdout",
     "output_type": "stream",
     "text": [
      "arg(arg='a', annotation=Name(id='int', ctx=Load()))\n"
     ]
    }
   ],
   "source": [
    "print(ast.dump(body.args.args[0]))"
   ]
  },
  {
   "cell_type": "code",
   "execution_count": 41,
   "id": "686f7b7c",
   "metadata": {},
   "outputs": [
    {
     "data": {
      "text/plain": [
       "'int'"
      ]
     },
     "execution_count": 41,
     "metadata": {},
     "output_type": "execute_result"
    }
   ],
   "source": [
    "body.args.args[0].dtype"
   ]
  },
  {
   "cell_type": "code",
   "execution_count": 25,
   "id": "4c012ce1",
   "metadata": {},
   "outputs": [
    {
     "name": "stdout",
     "output_type": "stream",
     "text": [
      "def add_square(a: int, b: int) -> int:\n",
      "    c * 100: int = a + b\n",
      "    return c * c\n"
     ]
    }
   ],
   "source": [
    "multiplied_tree = apply_multiply_int_variables(typed_tree_with_dtype)\n",
    "multiplied_source_code = ast.unparse(multiplied_tree)\n",
    "print(multiplied_source_code)"
   ]
  },
  {
   "cell_type": "code",
   "execution_count": 17,
   "id": "e73bf8d4",
   "metadata": {},
   "outputs": [],
   "source": [
    "body = typed_tree_with_dtype.body[0]"
   ]
  },
  {
   "cell_type": "code",
   "execution_count": 18,
   "id": "50e57b8a",
   "metadata": {},
   "outputs": [],
   "source": [
    "assign = body.body[0]\n",
    "ret = body.body[1]"
   ]
  },
  {
   "cell_type": "code",
   "execution_count": 22,
   "id": "97542a5e",
   "metadata": {},
   "outputs": [
    {
     "data": {
      "text/plain": [
       "'c'"
      ]
     },
     "execution_count": 22,
     "metadata": {},
     "output_type": "execute_result"
    }
   ],
   "source": [
    "assign.target.dtype"
   ]
  },
  {
   "cell_type": "code",
   "execution_count": 69,
   "id": "77405c42",
   "metadata": {},
   "outputs": [
    {
     "data": {
      "text/plain": [
       "'c'"
      ]
     },
     "execution_count": 69,
     "metadata": {},
     "output_type": "execute_result"
    }
   ],
   "source": [
    "target.id"
   ]
  },
  {
   "cell_type": "code",
   "execution_count": 67,
   "id": "76cef0d9",
   "metadata": {},
   "outputs": [
    {
     "name": "stdout",
     "output_type": "stream",
     "text": [
      "Name(id='c', ctx=Store())\n"
     ]
    }
   ],
   "source": [
    "print(ast.dump(assign.targets[0], indent=2))"
   ]
  },
  {
   "cell_type": "code",
   "execution_count": 16,
   "id": "6febc934",
   "metadata": {},
   "outputs": [
    {
     "name": "stdout",
     "output_type": "stream",
     "text": [
      "FunctionDef(\n",
      "  name='add_square',\n",
      "  args=arguments(\n",
      "    posonlyargs=[],\n",
      "    args=[\n",
      "      arg(\n",
      "        arg='a',\n",
      "        annotation=Name(id='int', ctx=Load())),\n",
      "      arg(\n",
      "        arg='b',\n",
      "        annotation=Name(id='int', ctx=Load()))],\n",
      "    kwonlyargs=[],\n",
      "    kw_defaults=[],\n",
      "    defaults=[]),\n",
      "  body=[\n",
      "    AnnAssign(\n",
      "      target=Name(id='int', ctx=Store()),\n",
      "      annotation=Name(id='c', ctx=Load()),\n",
      "      value=BinOp(\n",
      "        left=Name(id='a', ctx=Load()),\n",
      "        op=Add(),\n",
      "        right=Name(id='b', ctx=Load())),\n",
      "      simple=1),\n",
      "    Return(\n",
      "      value=BinOp(\n",
      "        left=Name(id='c', ctx=Load()),\n",
      "        op=Mult(),\n",
      "        right=Name(id='c', ctx=Load())))],\n",
      "  decorator_list=[],\n",
      "  returns=Name(id='int', ctx=Load()))\n"
     ]
    }
   ],
   "source": [
    "print(ast.dump(typed_tree_with_dtype.body[0], indent=2))"
   ]
  },
  {
   "cell_type": "code",
   "execution_count": 76,
   "id": "de1ffe91",
   "metadata": {},
   "outputs": [],
   "source": [
    "def custom_dump(node: ast.AST, *, indent: int = 2, level: int = 0) -> str:\n",
    "    def _format(node):\n",
    "        if isinstance(node, ast.AST):\n",
    "            return custom_dump(node, indent=indent, level=level + 1)\n",
    "        elif isinstance(node, list):\n",
    "            return f\"[{', '.join(_format(x) for x in node)}]\"\n",
    "        else:\n",
    "            return repr(node)\n",
    "\n",
    "    if not isinstance(node, ast.AST):\n",
    "        raise TypeError(\"Expected instance of ast.AST\")\n",
    "\n",
    "    prefix = f\"{node.__class__.__name__}(\"\n",
    "    if hasattr(node, \"dtype\"):\n",
    "        prefix += f\"dtype={node.dtype}, \"\n",
    "\n",
    "    fields = [f\"{name}={_format(value)}\" for name, value in ast.iter_fields(node)]\n",
    "    result = f\"{prefix}{', '.join(fields)})\"\n",
    "\n",
    "    if indent is not None:\n",
    "        result = result.replace(\",\", f\",\\n{' ' * ((level + 1) * indent)}\")\n",
    "        #result = f\"{' ' * (level * indent)}{result}\"\n",
    "\n",
    "    return result"
   ]
  },
  {
   "cell_type": "code",
   "execution_count": 77,
   "id": "4ef80e45",
   "metadata": {
    "collapsed": true
   },
   "outputs": [
    {
     "name": "stdout",
     "output_type": "stream",
     "text": [
      "FunctionDef(name='add_square',\n",
      "  args=arguments(posonlyargs=[],\n",
      " \n",
      "   args=[arg(dtype=int,\n",
      " \n",
      "  \n",
      "    arg='a',\n",
      " \n",
      "  \n",
      "    annotation=Name(id='int',\n",
      " \n",
      "  \n",
      "   \n",
      "     ctx=Load()),\n",
      " \n",
      "  \n",
      "    type_comment=None),\n",
      " \n",
      "   arg(dtype=int,\n",
      " \n",
      "  \n",
      "    arg='b',\n",
      " \n",
      "  \n",
      "    annotation=Name(id='int',\n",
      " \n",
      "  \n",
      "   \n",
      "     ctx=Load()),\n",
      " \n",
      "  \n",
      "    type_comment=None)],\n",
      " \n",
      "   vararg=None,\n",
      " \n",
      "   kwonlyargs=[],\n",
      " \n",
      "   kw_defaults=[],\n",
      " \n",
      "   kwarg=None,\n",
      " \n",
      "   defaults=[]),\n",
      "  body=[AnnAssign(target=Name(dtype=int,\n",
      " \n",
      "  \n",
      "    id='c',\n",
      " \n",
      "  \n",
      "    ctx=Store()),\n",
      " \n",
      "   annotation=Name(id='int',\n",
      " \n",
      "  \n",
      "    ctx=Load()),\n",
      " \n",
      "   value=BinOp(left=Name(id='a',\n",
      " \n",
      "  \n",
      "   \n",
      "     ctx=Load()),\n",
      " \n",
      "  \n",
      "    op=Add(),\n",
      " \n",
      "  \n",
      "    right=Name(id='b',\n",
      " \n",
      "  \n",
      "   \n",
      "     ctx=Load())),\n",
      " \n",
      "   simple=1),\n",
      "  Return(value=BinOp(left=Name(id='c',\n",
      " \n",
      "  \n",
      "   \n",
      "     ctx=Load()),\n",
      " \n",
      "  \n",
      "    op=Mult(),\n",
      " \n",
      "  \n",
      "    right=Name(id='c',\n",
      " \n",
      "  \n",
      "   \n",
      "     ctx=Load())))],\n",
      "  decorator_list=[],\n",
      "  returns=Name(id='int',\n",
      " \n",
      "   ctx=Load()),\n",
      "  type_comment=None)\n"
     ]
    }
   ],
   "source": [
    "print(custom_dump(typed_tree_with_dtype.body[0], indent=1))"
   ]
  },
  {
   "cell_type": "code",
   "execution_count": 47,
   "id": "5d273036",
   "metadata": {},
   "outputs": [],
   "source": [
    "ast.dump??"
   ]
  },
  {
   "cell_type": "code",
   "execution_count": 25,
   "id": "452bc251",
   "metadata": {},
   "outputs": [
    {
     "name": "stdout",
     "output_type": "stream",
     "text": [
      "def add_square(a: int, b: int) -> int:\n",
      "    c = a * 100 + b * 100\n",
      "    return c * c\n"
     ]
    }
   ],
   "source": [
    "def add_square(a: int, b: int) -> int:\n",
    "    c = a + b\n",
    "    return c * c\n",
    "\n",
    "source_code = inspect.getsource(add_square)\n",
    "\n",
    "typed_tree = generate_typed_ast(source_code)\n",
    "int_variables = collect_int_variables(typed_tree)\n",
    "multiplied_tree = apply_multiply_int_variables(typed_tree, int_variables)\n",
    "multiplied_source_code = ast.unparse(multiplied_tree)\n",
    "print(multiplied_source_code)"
   ]
  },
  {
   "cell_type": "markdown",
   "id": "6a8bcbf4",
   "metadata": {},
   "source": []
  },
  {
   "cell_type": "code",
   "execution_count": 35,
   "id": "06e63f52",
   "metadata": {},
   "outputs": [
    {
     "data": {
      "text/plain": [
       "<ast.Module at 0x7f6a3b821480>"
      ]
     },
     "execution_count": 35,
     "metadata": {},
     "output_type": "execute_result"
    }
   ],
   "source": [
    "typed_tree"
   ]
  }
 ],
 "metadata": {
  "kernelspec": {
   "display_name": "Python 3 (ipykernel)",
   "language": "python",
   "name": "python3"
  },
  "language_info": {
   "codemirror_mode": {
    "name": "ipython",
    "version": 3
   },
   "file_extension": ".py",
   "mimetype": "text/x-python",
   "name": "python",
   "nbconvert_exporter": "python",
   "pygments_lexer": "ipython3",
   "version": "3.11.0"
  }
 },
 "nbformat": 4,
 "nbformat_minor": 5
}
